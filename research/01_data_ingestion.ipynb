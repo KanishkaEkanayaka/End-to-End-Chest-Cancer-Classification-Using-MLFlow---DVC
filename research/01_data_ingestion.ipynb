{
 "cells": [
  {
   "cell_type": "code",
   "execution_count": 1,
   "metadata": {},
   "outputs": [],
   "source": [
    "import os"
   ]
  },
  {
   "cell_type": "markdown",
   "metadata": {},
   "source": [
    "Create DataIngestionConfig file to specify a class that hold configdata of data ingestion"
   ]
  },
  {
   "cell_type": "code",
   "execution_count": 2,
   "metadata": {},
   "outputs": [],
   "source": [
    "from dataclasses import dataclass\n",
    "from pathlib import Path\n",
    "\n",
    "#dataclass is a class that introduced to specially deal with data. frozen=True means this class is frozen to only take defined parameters\n",
    "@dataclass(frozen=True)\n",
    "class DataIngestionConfig:\n",
    "    root_dir: Path\n",
    "    source_URL: str\n",
    "    local_data_file: Path\n",
    "    unzip_dir: Path"
   ]
  },
  {
   "cell_type": "code",
   "execution_count": 3,
   "metadata": {},
   "outputs": [],
   "source": [
    "from cnnClassifier.constants import *\n",
    "from cnnClassifier.utils.common import read_yaml, create_directories"
   ]
  },
  {
   "cell_type": "code",
   "execution_count": 4,
   "metadata": {},
   "outputs": [
    {
     "name": "stdout",
     "output_type": "stream",
     "text": [
      "../config/config.yaml\n",
      "../params.yaml\n"
     ]
    }
   ],
   "source": [
    "print(CONFIG_FILE_PATH)\n",
    "print(PARAMS_FILE_PATH)"
   ]
  },
  {
   "cell_type": "markdown",
   "metadata": {},
   "source": [
    "Create ConfigurationManager"
   ]
  },
  {
   "cell_type": "code",
   "execution_count": 5,
   "metadata": {},
   "outputs": [],
   "source": [
    "class ConfigurationManager:\n",
    "    def __init__(\n",
    "            self,\n",
    "            config_filepath=CONFIG_FILE_PATH,\n",
    "            params_filepath=PARAMS_FILE_PATH\n",
    "    ):\n",
    "        self.config = read_yaml(config_filepath)\n",
    "        self.params = read_yaml(params_filepath)\n",
    "\n",
    "        create_directories([self.config.artifacts_root])\n",
    "\n",
    "    # returning configurations related to data ingestion\n",
    "    def get_data_ingestion_config(self) -> DataIngestionConfig:\n",
    "        \n",
    "        config = self.config.data_ingestion\n",
    "\n",
    "        create_directories([config.root_dir])\n",
    "\n",
    "        data_ingestion_config = DataIngestionConfig(\n",
    "            root_dir=config.root_dir,\n",
    "            source_URL=config.source_URL,\n",
    "            local_data_file=config.local_data_file,\n",
    "            unzip_dir=config.unzip_dir\n",
    "        )\n",
    "\n",
    "        return data_ingestion_config\n"
   ]
  },
  {
   "cell_type": "markdown",
   "metadata": {},
   "source": [
    "Let's create DataIngestion Class"
   ]
  },
  {
   "cell_type": "code",
   "execution_count": 6,
   "metadata": {},
   "outputs": [],
   "source": [
    "import os\n",
    "import urllib.request as request\n",
    "import zipfile\n",
    "import gdown\n",
    "from cnnClassifier.utils import logger\n",
    "from cnnClassifier.utils.common import get_size"
   ]
  },
  {
   "cell_type": "code",
   "execution_count": 7,
   "metadata": {},
   "outputs": [],
   "source": [
    "class DataIngestion:\n",
    "    def __init__(self, config: DataIngestionConfig):\n",
    "        self.config = config\n",
    "\n",
    "    # download file from the location\n",
    "    def download_file(self) -> str:\n",
    "        \"\"\"Fetch data from the URL\n",
    "        \"\"\"\n",
    "\n",
    "        try:\n",
    "            dataset_url = self.config.source_URL\n",
    "            zip_download_dir = self.config.local_data_file\n",
    "            os.makedirs(self.config.root_dir, exist_ok=True)\n",
    "            logger.info(f\"Downloading data from {dataset_url} to the file {zip_download_dir}\")\n",
    "\n",
    "            file_id = dataset_url.split(\"/\")[5]\n",
    "            prefix = \"https://drive.google.com/uc?/export=download&id=\"\n",
    "            gdown.download(prefix+file_id,zip_download_dir)\n",
    "\n",
    "            logger.info(f\"Downloaded data from {dataset_url} into file {zip_download_dir}\")\n",
    "\n",
    "        except Exception as e:\n",
    "            raise e\n",
    "        \n",
    "    \n",
    "    # extract the zipfile\n",
    "    def extract_zip_file(self):\n",
    "        \"\"\"\n",
    "        zip file path: str\n",
    "        Extracts the zip file into the data directory\n",
    "        Function returns none\n",
    "        \"\"\"\n",
    "\n",
    "        unzip_path = self.config.unzip_dir\n",
    "        os.makedirs(unzip_path,exist_ok=True)\n",
    "        with zipfile.ZipFile(self.config.local_data_file, 'r') as zip_ref:\n",
    "            zip_ref.extractall(unzip_path)"
   ]
  },
  {
   "cell_type": "markdown",
   "metadata": {},
   "source": [
    "Creating data ingestion pipeline"
   ]
  },
  {
   "cell_type": "code",
   "execution_count": 8,
   "metadata": {},
   "outputs": [
    {
     "name": "stdout",
     "output_type": "stream",
     "text": [
      "[2024-03-28 08:58:47,502: INFO: common: yaml file: ../config/config.yaml loaded successfully]\n",
      "[2024-03-28 08:58:47,848: INFO: common: yaml file: ../params.yaml loaded successfully]\n",
      "[2024-03-28 08:58:47,851: INFO: common: created directory at artifacts]\n",
      "[2024-03-28 08:58:47,852: INFO: common: created directory at artifacts/data_ingestion]\n",
      "[2024-03-28 08:58:47,853: INFO: 3837693123: Downloading data from https://drive.google.com/file/d/1SXbuSXHYYL1pwItse2uNUWfCcW-2_De-/view?usp=sharing to the file artifacts/data_ingestion/data.zip]\n"
     ]
    },
    {
     "name": "stderr",
     "output_type": "stream",
     "text": [
      "Downloading...\n",
      "From (original): https://drive.google.com/uc?/export=download&id=1SXbuSXHYYL1pwItse2uNUWfCcW-2_De-\n",
      "From (redirected): https://drive.google.com/uc?%2Fexport=download&id=1SXbuSXHYYL1pwItse2uNUWfCcW-2_De-&confirm=t&uuid=bc63aece-bdac-46c1-80f1-286fc467010e\n",
      "To: /home/kaiz/Desktop/End-to-End-Chest-Cancer-Classification-Using-MLFlow---DVC/research/artifacts/data_ingestion/data.zip\n",
      "100%|██████████| 49.0M/49.0M [00:20<00:00, 2.39MB/s]"
     ]
    },
    {
     "name": "stdout",
     "output_type": "stream",
     "text": [
      "[2024-03-28 08:59:11,546: INFO: 3837693123: Downloaded data from https://drive.google.com/file/d/1SXbuSXHYYL1pwItse2uNUWfCcW-2_De-/view?usp=sharing into file artifacts/data_ingestion/data.zip]\n"
     ]
    },
    {
     "name": "stderr",
     "output_type": "stream",
     "text": [
      "\n"
     ]
    }
   ],
   "source": [
    "try:\n",
    "    config = ConfigurationManager()\n",
    "    data_ingestion_config = config.get_data_ingestion_config()\n",
    "    data_ingestion = DataIngestion(config=data_ingestion_config)\n",
    "    data_ingestion.download_file()\n",
    "    data_ingestion.extract_zip_file()\n",
    "except Exception as e:\n",
    "    raise e"
   ]
  },
  {
   "cell_type": "code",
   "execution_count": null,
   "metadata": {},
   "outputs": [],
   "source": []
  }
 ],
 "metadata": {
  "kernelspec": {
   "display_name": "cancer",
   "language": "python",
   "name": "python3"
  },
  "language_info": {
   "codemirror_mode": {
    "name": "ipython",
    "version": 3
   },
   "file_extension": ".py",
   "mimetype": "text/x-python",
   "name": "python",
   "nbconvert_exporter": "python",
   "pygments_lexer": "ipython3",
   "version": "3.12.2"
  }
 },
 "nbformat": 4,
 "nbformat_minor": 2
}
